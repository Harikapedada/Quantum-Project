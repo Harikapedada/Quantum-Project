{
  "cells": [
    {
      "cell_type": "code",
      "execution_count": 1,
      "metadata": {
        "colab": {
          "base_uri": "https://localhost:8080/"
        },
        "id": "vkydsgutsC0g",
        "outputId": "415d2f76-b7b3-408b-e348-07b516c697b4"
      },
      "outputs": [
        {
          "output_type": "stream",
          "name": "stdout",
          "text": [
            "Collecting pennylane\n",
            "  Downloading pennylane-0.42.3-py3-none-any.whl.metadata (11 kB)\n",
            "Requirement already satisfied: tensorflow in /usr/local/lib/python3.12/dist-packages (2.19.0)\n",
            "Requirement already satisfied: imbalanced-learn in /usr/local/lib/python3.12/dist-packages (0.14.0)\n",
            "Requirement already satisfied: scikit-learn in /usr/local/lib/python3.12/dist-packages (1.6.1)\n",
            "Requirement already satisfied: matplotlib in /usr/local/lib/python3.12/dist-packages (3.10.0)\n",
            "Requirement already satisfied: scipy in /usr/local/lib/python3.12/dist-packages (from pennylane) (1.16.2)\n",
            "Requirement already satisfied: networkx in /usr/local/lib/python3.12/dist-packages (from pennylane) (3.5)\n",
            "Collecting rustworkx>=0.14.0 (from pennylane)\n",
            "  Downloading rustworkx-0.17.1-cp39-abi3-manylinux_2_17_x86_64.manylinux2014_x86_64.whl.metadata (10 kB)\n",
            "Requirement already satisfied: autograd in /usr/local/lib/python3.12/dist-packages (from pennylane) (1.8.0)\n",
            "Collecting appdirs (from pennylane)\n",
            "  Downloading appdirs-1.4.4-py2.py3-none-any.whl.metadata (9.0 kB)\n",
            "Collecting autoray<0.8,>=0.6.11 (from pennylane)\n",
            "  Downloading autoray-0.7.2-py3-none-any.whl.metadata (5.8 kB)\n",
            "Requirement already satisfied: cachetools in /usr/local/lib/python3.12/dist-packages (from pennylane) (5.5.2)\n",
            "Collecting pennylane-lightning>=0.42 (from pennylane)\n",
            "  Downloading pennylane_lightning-0.42.0-cp312-cp312-manylinux_2_28_x86_64.whl.metadata (11 kB)\n",
            "Requirement already satisfied: requests in /usr/local/lib/python3.12/dist-packages (from pennylane) (2.32.4)\n",
            "Requirement already satisfied: tomlkit in /usr/local/lib/python3.12/dist-packages (from pennylane) (0.13.3)\n",
            "Requirement already satisfied: typing_extensions in /usr/local/lib/python3.12/dist-packages (from pennylane) (4.15.0)\n",
            "Requirement already satisfied: packaging in /usr/local/lib/python3.12/dist-packages (from pennylane) (25.0)\n",
            "Collecting diastatic-malt (from pennylane)\n",
            "  Downloading diastatic_malt-2.15.2-py3-none-any.whl.metadata (2.6 kB)\n",
            "Requirement already satisfied: numpy in /usr/local/lib/python3.12/dist-packages (from pennylane) (2.0.2)\n",
            "Requirement already satisfied: absl-py>=1.0.0 in /usr/local/lib/python3.12/dist-packages (from tensorflow) (1.4.0)\n",
            "Requirement already satisfied: astunparse>=1.6.0 in /usr/local/lib/python3.12/dist-packages (from tensorflow) (1.6.3)\n",
            "Requirement already satisfied: flatbuffers>=24.3.25 in /usr/local/lib/python3.12/dist-packages (from tensorflow) (25.2.10)\n",
            "Requirement already satisfied: gast!=0.5.0,!=0.5.1,!=0.5.2,>=0.2.1 in /usr/local/lib/python3.12/dist-packages (from tensorflow) (0.6.0)\n",
            "Requirement already satisfied: google-pasta>=0.1.1 in /usr/local/lib/python3.12/dist-packages (from tensorflow) (0.2.0)\n",
            "Requirement already satisfied: libclang>=13.0.0 in /usr/local/lib/python3.12/dist-packages (from tensorflow) (18.1.1)\n",
            "Requirement already satisfied: opt-einsum>=2.3.2 in /usr/local/lib/python3.12/dist-packages (from tensorflow) (3.4.0)\n",
            "Requirement already satisfied: protobuf!=4.21.0,!=4.21.1,!=4.21.2,!=4.21.3,!=4.21.4,!=4.21.5,<6.0.0dev,>=3.20.3 in /usr/local/lib/python3.12/dist-packages (from tensorflow) (5.29.5)\n",
            "Requirement already satisfied: setuptools in /usr/local/lib/python3.12/dist-packages (from tensorflow) (75.2.0)\n",
            "Requirement already satisfied: six>=1.12.0 in /usr/local/lib/python3.12/dist-packages (from tensorflow) (1.17.0)\n",
            "Requirement already satisfied: termcolor>=1.1.0 in /usr/local/lib/python3.12/dist-packages (from tensorflow) (3.1.0)\n",
            "Requirement already satisfied: wrapt>=1.11.0 in /usr/local/lib/python3.12/dist-packages (from tensorflow) (1.17.3)\n",
            "Requirement already satisfied: grpcio<2.0,>=1.24.3 in /usr/local/lib/python3.12/dist-packages (from tensorflow) (1.75.0)\n",
            "Requirement already satisfied: tensorboard~=2.19.0 in /usr/local/lib/python3.12/dist-packages (from tensorflow) (2.19.0)\n",
            "Requirement already satisfied: keras>=3.5.0 in /usr/local/lib/python3.12/dist-packages (from tensorflow) (3.10.0)\n",
            "Requirement already satisfied: h5py>=3.11.0 in /usr/local/lib/python3.12/dist-packages (from tensorflow) (3.14.0)\n",
            "Requirement already satisfied: ml-dtypes<1.0.0,>=0.5.1 in /usr/local/lib/python3.12/dist-packages (from tensorflow) (0.5.3)\n",
            "Requirement already satisfied: joblib<2,>=1.2.0 in /usr/local/lib/python3.12/dist-packages (from imbalanced-learn) (1.5.2)\n",
            "Requirement already satisfied: threadpoolctl<4,>=2.0.0 in /usr/local/lib/python3.12/dist-packages (from imbalanced-learn) (3.6.0)\n",
            "Requirement already satisfied: contourpy>=1.0.1 in /usr/local/lib/python3.12/dist-packages (from matplotlib) (1.3.3)\n",
            "Requirement already satisfied: cycler>=0.10 in /usr/local/lib/python3.12/dist-packages (from matplotlib) (0.12.1)\n",
            "Requirement already satisfied: fonttools>=4.22.0 in /usr/local/lib/python3.12/dist-packages (from matplotlib) (4.60.0)\n",
            "Requirement already satisfied: kiwisolver>=1.3.1 in /usr/local/lib/python3.12/dist-packages (from matplotlib) (1.4.9)\n",
            "Requirement already satisfied: pillow>=8 in /usr/local/lib/python3.12/dist-packages (from matplotlib) (11.3.0)\n",
            "Requirement already satisfied: pyparsing>=2.3.1 in /usr/local/lib/python3.12/dist-packages (from matplotlib) (3.2.4)\n",
            "Requirement already satisfied: python-dateutil>=2.7 in /usr/local/lib/python3.12/dist-packages (from matplotlib) (2.9.0.post0)\n",
            "Requirement already satisfied: wheel<1.0,>=0.23.0 in /usr/local/lib/python3.12/dist-packages (from astunparse>=1.6.0->tensorflow) (0.45.1)\n",
            "Requirement already satisfied: rich in /usr/local/lib/python3.12/dist-packages (from keras>=3.5.0->tensorflow) (13.9.4)\n",
            "Requirement already satisfied: namex in /usr/local/lib/python3.12/dist-packages (from keras>=3.5.0->tensorflow) (0.1.0)\n",
            "Requirement already satisfied: optree in /usr/local/lib/python3.12/dist-packages (from keras>=3.5.0->tensorflow) (0.17.0)\n",
            "Collecting scipy-openblas32>=0.3.26 (from pennylane-lightning>=0.42->pennylane)\n",
            "  Downloading scipy_openblas32-0.3.30.0.2-py3-none-manylinux2014_x86_64.manylinux_2_17_x86_64.whl.metadata (57 kB)\n",
            "\u001b[2K     \u001b[90m━━━━━━━━━━━━━━━━━━━━━━━━━━━━━━━━━━━━━━━━\u001b[0m \u001b[32m57.1/57.1 kB\u001b[0m \u001b[31m3.7 MB/s\u001b[0m eta \u001b[36m0:00:00\u001b[0m\n",
            "\u001b[?25hRequirement already satisfied: charset_normalizer<4,>=2 in /usr/local/lib/python3.12/dist-packages (from requests->pennylane) (3.4.3)\n",
            "Requirement already satisfied: idna<4,>=2.5 in /usr/local/lib/python3.12/dist-packages (from requests->pennylane) (3.10)\n",
            "Requirement already satisfied: urllib3<3,>=1.21.1 in /usr/local/lib/python3.12/dist-packages (from requests->pennylane) (2.5.0)\n",
            "Requirement already satisfied: certifi>=2017.4.17 in /usr/local/lib/python3.12/dist-packages (from requests->pennylane) (2025.8.3)\n",
            "Requirement already satisfied: markdown>=2.6.8 in /usr/local/lib/python3.12/dist-packages (from tensorboard~=2.19.0->tensorflow) (3.9)\n",
            "Requirement already satisfied: tensorboard-data-server<0.8.0,>=0.7.0 in /usr/local/lib/python3.12/dist-packages (from tensorboard~=2.19.0->tensorflow) (0.7.2)\n",
            "Requirement already satisfied: werkzeug>=1.0.1 in /usr/local/lib/python3.12/dist-packages (from tensorboard~=2.19.0->tensorflow) (3.1.3)\n",
            "Requirement already satisfied: MarkupSafe>=2.1.1 in /usr/local/lib/python3.12/dist-packages (from werkzeug>=1.0.1->tensorboard~=2.19.0->tensorflow) (3.0.2)\n",
            "Requirement already satisfied: markdown-it-py>=2.2.0 in /usr/local/lib/python3.12/dist-packages (from rich->keras>=3.5.0->tensorflow) (4.0.0)\n",
            "Requirement already satisfied: pygments<3.0.0,>=2.13.0 in /usr/local/lib/python3.12/dist-packages (from rich->keras>=3.5.0->tensorflow) (2.19.2)\n",
            "Requirement already satisfied: mdurl~=0.1 in /usr/local/lib/python3.12/dist-packages (from markdown-it-py>=2.2.0->rich->keras>=3.5.0->tensorflow) (0.1.2)\n",
            "Downloading pennylane-0.42.3-py3-none-any.whl (4.8 MB)\n",
            "\u001b[2K   \u001b[90m━━━━━━━━━━━━━━━━━━━━━━━━━━━━━━━━━━━━━━━━\u001b[0m \u001b[32m4.8/4.8 MB\u001b[0m \u001b[31m65.5 MB/s\u001b[0m eta \u001b[36m0:00:00\u001b[0m\n",
            "\u001b[?25hDownloading autoray-0.7.2-py3-none-any.whl (930 kB)\n",
            "\u001b[2K   \u001b[90m━━━━━━━━━━━━━━━━━━━━━━━━━━━━━━━━━━━━━━━━\u001b[0m \u001b[32m930.8/930.8 kB\u001b[0m \u001b[31m66.2 MB/s\u001b[0m eta \u001b[36m0:00:00\u001b[0m\n",
            "\u001b[?25hDownloading pennylane_lightning-0.42.0-cp312-cp312-manylinux_2_28_x86_64.whl (2.6 MB)\n",
            "\u001b[2K   \u001b[90m━━━━━━━━━━━━━━━━━━━━━━━━━━━━━━━━━━━━━━━━\u001b[0m \u001b[32m2.6/2.6 MB\u001b[0m \u001b[31m100.2 MB/s\u001b[0m eta \u001b[36m0:00:00\u001b[0m\n",
            "\u001b[?25hDownloading rustworkx-0.17.1-cp39-abi3-manylinux_2_17_x86_64.manylinux2014_x86_64.whl (2.2 MB)\n",
            "\u001b[2K   \u001b[90m━━━━━━━━━━━━━━━━━━━━━━━━━━━━━━━━━━━━━━━━\u001b[0m \u001b[32m2.2/2.2 MB\u001b[0m \u001b[31m98.3 MB/s\u001b[0m eta \u001b[36m0:00:00\u001b[0m\n",
            "\u001b[?25hDownloading appdirs-1.4.4-py2.py3-none-any.whl (9.6 kB)\n",
            "Downloading diastatic_malt-2.15.2-py3-none-any.whl (167 kB)\n",
            "\u001b[2K   \u001b[90m━━━━━━━━━━━━━━━━━━━━━━━━━━━━━━━━━━━━━━━━\u001b[0m \u001b[32m167.9/167.9 kB\u001b[0m \u001b[31m14.1 MB/s\u001b[0m eta \u001b[36m0:00:00\u001b[0m\n",
            "\u001b[?25hDownloading scipy_openblas32-0.3.30.0.2-py3-none-manylinux2014_x86_64.manylinux_2_17_x86_64.whl (8.6 MB)\n",
            "\u001b[2K   \u001b[90m━━━━━━━━━━━━━━━━━━━━━━━━━━━━━━━━━━━━━━━━\u001b[0m \u001b[32m8.6/8.6 MB\u001b[0m \u001b[31m115.8 MB/s\u001b[0m eta \u001b[36m0:00:00\u001b[0m\n",
            "\u001b[?25hInstalling collected packages: appdirs, scipy-openblas32, rustworkx, autoray, diastatic-malt, pennylane-lightning, pennylane\n",
            "Successfully installed appdirs-1.4.4 autoray-0.7.2 diastatic-malt-2.15.2 pennylane-0.42.3 pennylane-lightning-0.42.0 rustworkx-0.17.1 scipy-openblas32-0.3.30.0.2\n"
          ]
        }
      ],
      "source": [
        "# Step 0: Install and import libraries\n",
        "!pip install pennylane tensorflow imbalanced-learn scikit-learn matplotlib"
      ]
    },
    {
      "cell_type": "code",
      "execution_count": 2,
      "metadata": {
        "id": "yZiyXBB8sGM4"
      },
      "outputs": [],
      "source": [
        "import pandas as pd\n",
        "import numpy as np\n",
        "from sklearn.model_selection import train_test_split\n",
        "from sklearn.preprocessing import StandardScaler\n",
        "from sklearn.decomposition import PCA\n",
        "from imblearn.over_sampling import SMOTE\n",
        "from sklearn.impute import SimpleImputer\n",
        "from sklearn.metrics import f1_score, precision_score, recall_score, confusion_matrix\n",
        "import tensorflow as tf\n",
        "import pennylane as qml\n",
        "import matplotlib.pyplot as plt"
      ]
    },
    {
      "cell_type": "code",
      "execution_count": 3,
      "metadata": {
        "id": "-fmy399fs0fi"
      },
      "outputs": [],
      "source": [
        "df = pd.read_csv(\"/content/creditcard.csv\")\n",
        "\n",
        "# Features and labels\n",
        "X = df.drop(columns=[\"Time\", \"Class\"])\n",
        "y = df[\"Class\"]\n",
        "\n",
        "# Convert columns to numeric, coercing errors to NaN\n",
        "for col in X.columns:\n",
        "    X[col] = pd.to_numeric(X[col], errors='coerce')"
      ]
    },
    {
      "cell_type": "code",
      "execution_count": 4,
      "metadata": {
        "colab": {
          "base_uri": "https://localhost:8080/"
        },
        "id": "u_HPD7H2tCkV",
        "outputId": "367eb370-cc94-4a80-aba9-cb5da089a445"
      },
      "outputs": [
        {
          "output_type": "stream",
          "name": "stdout",
          "text": [
            "PCA Explained Variance: [0.07359003 0.06281335 0.04987303 0.04699941 0.04442638 0.04267956\n",
            " 0.04114867 0.03867136]\n"
          ]
        }
      ],
      "source": [
        "# Handle missing values\n",
        "imputer = SimpleImputer(strategy='mean')\n",
        "X_imputed = imputer.fit_transform(X)\n",
        "\n",
        "# Standard scaling\n",
        "scaler = StandardScaler()\n",
        "X_scaled = scaler.fit_transform(X_imputed)\n",
        "\n",
        "# PCA to 8 components for 8 qubits\n",
        "pca = PCA(n_components=8) # Keep 28 components for now as defined later in the notebook\n",
        "X_pca = pca.fit_transform(X_scaled)\n",
        "print(f\"PCA Explained Variance: {pca.explained_variance_ratio_}\")"
      ]
    },
    {
      "cell_type": "code",
      "execution_count": 5,
      "metadata": {
        "colab": {
          "base_uri": "https://localhost:8080/"
        },
        "id": "2oPiZkJcvdkv",
        "outputId": "6dd7b5be-60fe-4175-eb56-453a0256e293"
      },
      "outputs": [
        {
          "output_type": "stream",
          "name": "stdout",
          "text": [
            "Balanced class distribution: {np.float64(0.0): np.int64(96919), np.float64(1.0): np.int64(96919)}\n"
          ]
        }
      ],
      "source": [
        "X_cleaned = X_pca[~np.isnan(y)]\n",
        "y_cleaned = y[~np.isnan(y)]\n",
        "\n",
        "# SMOTE for class balancing\n",
        "smote = SMOTE(random_state=42, k_neighbors=2)\n",
        "X_balanced, y_balanced = smote.fit_resample(X_cleaned, y_cleaned)\n",
        "print(f\"Balanced class distribution: {dict(zip(*np.unique(y_balanced, return_counts=True)))}\")\n"
      ]
    },
    {
      "cell_type": "code",
      "execution_count": 6,
      "metadata": {
        "id": "BsutX97mwUS1"
      },
      "outputs": [],
      "source": [
        "X_train, X_test, y_train, y_test = train_test_split(\n",
        "    X_balanced, y_balanced, test_size=0.2, stratify=y_balanced, random_state=42\n",
        ")\n",
        "\n",
        "y_train = y_train.to_numpy().flatten()\n",
        "y_test = y_test.to_numpy().flatten()\n"
      ]
    },
    {
      "cell_type": "code",
      "execution_count": 7,
      "metadata": {
        "id": "UBxX6LSXwWBi"
      },
      "outputs": [],
      "source": [
        "import pennylane as qml\n",
        "import tensorflow as tf\n",
        "\n",
        "n_qubits = 28\n",
        "dev = qml.device(\"default.qubit\", wires=n_qubits)\n",
        "\n",
        "# QNode\n",
        "def quantum_circuit(inputs, weights_conv, weights_pool):\n",
        "    qml.templates.AngleEmbedding(inputs, wires=range(n_qubits))\n",
        "    qml.templates.StronglyEntanglingLayers(weights_conv, wires=range(n_qubits))\n",
        "\n",
        "    # Quantum pooling example\n",
        "    for i in range(0, n_qubits, 2):\n",
        "        qml.CNOT(wires=[i, i+1])\n",
        "        qml.RY(weights_pool[i//2], wires=i)\n",
        "\n",
        "    return [qml.expval(qml.PauliZ(i)) for i in range(n_qubits//2)]"
      ]
    },
    {
      "cell_type": "code",
      "execution_count": 8,
      "metadata": {
        "id": "Kgf_8E01ws7_"
      },
      "outputs": [],
      "source": [
        "weight_shapes = {\n",
        "    \"weights_conv\": (2, n_qubits, 3),\n",
        "    \"weights_pool\": (n_qubits//2,)\n",
        "}\n",
        "\n",
        "# Wrap QNode into a Keras Layer\n",
        "qnode = qml.QNode(quantum_circuit, dev, interface=\"tf\")\n",
        "\n",
        "class QuantumLayer(tf.keras.layers.Layer):\n",
        "    def __init__(self):\n",
        "        super().__init__()\n",
        "        self.qnode = qnode\n",
        "        # Trainable weights\n",
        "        self.weights_conv = tf.Variable(tf.random.normal(shape=weight_shapes[\"weights_conv\"]), trainable=True)\n",
        "        self.weights_pool = tf.Variable(tf.random.normal(shape=weight_shapes[\"weights_pool\"]), trainable=True)\n",
        "\n",
        "    def call(self, inputs):\n",
        "        return self.qnode(inputs, self.weights_conv, self.weights_pool)"
      ]
    },
    {
      "cell_type": "code",
      "execution_count": 9,
      "metadata": {
        "id": "nONu3aLZwa7V"
      },
      "outputs": [],
      "source": [
        "class QuantumLayer(tf.keras.layers.Layer):\n",
        "    def __init__(self):\n",
        "        super().__init__()\n",
        "        self.qnode = qnode\n",
        "        self.weights_conv = tf.Variable(tf.random.normal(shape=weight_shapes[\"weights_conv\"]), trainable=True)\n",
        "        self.weights_pool = tf.Variable(tf.random.normal(shape=weight_shapes[\"weights_pool\"]), trainable=True)\n",
        "\n",
        "    def call(self, inputs):\n",
        "        outputs = self.qnode(inputs, self.weights_conv, self.weights_pool)  # List of expectation values\n",
        "        # Convert list to tensor of shape (batch_size, n_qubits//2)\n",
        "        return tf.stack(outputs, axis=1)\n"
      ]
    },
    {
      "cell_type": "code",
      "execution_count": 10,
      "metadata": {
        "id": "4VTWVFC2w2U0"
      },
      "outputs": [],
      "source": [
        "model = tf.keras.models.Sequential([\n",
        "    tf.keras.layers.Input(shape=(X_train.shape[1],)),  # Ensure input shape is correct (12)\n",
        "    tf.keras.layers.Dense(64, activation='relu'),  # Temporarily replace quantum layer with a dense layer\n",
        "    tf.keras.layers.Dense(1, activation=\"sigmoid\")\n",
        "])\n",
        "\n",
        "# Compile the model\n",
        "model.compile(\n",
        "    optimizer=tf.keras.optimizers.Adam(learning_rate=0.001),\n",
        "    loss=\"binary_crossentropy\",\n",
        "    metrics=[\"accuracy\", tf.keras.metrics.Precision(), tf.keras.metrics.Recall()]\n",
        ")\n"
      ]
    },
    {
      "cell_type": "code",
      "execution_count": 11,
      "metadata": {
        "colab": {
          "base_uri": "https://localhost:8080/"
        },
        "id": "QvdX62PrkHxe",
        "outputId": "61c87e69-0654-4b95-dfa7-cdae791e27fb"
      },
      "outputs": [
        {
          "output_type": "stream",
          "name": "stdout",
          "text": [
            "Epoch 1/50\n",
            "\u001b[1m970/970\u001b[0m \u001b[32m━━━━━━━━━━━━━━━━━━━━\u001b[0m\u001b[37m\u001b[0m \u001b[1m16s\u001b[0m 11ms/step - accuracy: 0.9149 - loss: 0.2293 - precision: 0.9599 - recall: 0.8687 - val_accuracy: 0.9601 - val_loss: 0.1198 - val_precision: 0.9900 - val_recall: 0.9295\n",
            "Epoch 2/50\n",
            "\u001b[1m970/970\u001b[0m \u001b[32m━━━━━━━━━━━━━━━━━━━━\u001b[0m\u001b[37m\u001b[0m \u001b[1m10s\u001b[0m 4ms/step - accuracy: 0.9623 - loss: 0.1094 - precision: 0.9911 - recall: 0.9332 - val_accuracy: 0.9668 - val_loss: 0.0873 - val_precision: 0.9881 - val_recall: 0.9451\n",
            "Epoch 3/50\n",
            "\u001b[1m970/970\u001b[0m \u001b[32m━━━━━━━━━━━━━━━━━━━━\u001b[0m\u001b[37m\u001b[0m \u001b[1m4s\u001b[0m 4ms/step - accuracy: 0.9687 - loss: 0.0851 - precision: 0.9888 - recall: 0.9481 - val_accuracy: 0.9741 - val_loss: 0.0688 - val_precision: 0.9866 - val_recall: 0.9613\n",
            "Epoch 4/50\n",
            "\u001b[1m970/970\u001b[0m \u001b[32m━━━━━━━━━━━━━━━━━━━━\u001b[0m\u001b[37m\u001b[0m \u001b[1m4s\u001b[0m 4ms/step - accuracy: 0.9746 - loss: 0.0673 - precision: 0.9878 - recall: 0.9613 - val_accuracy: 0.9776 - val_loss: 0.0575 - val_precision: 0.9872 - val_recall: 0.9678\n",
            "Epoch 5/50\n",
            "\u001b[1m970/970\u001b[0m \u001b[32m━━━━━━━━━━━━━━━━━━━━\u001b[0m\u001b[37m\u001b[0m \u001b[1m3s\u001b[0m 4ms/step - accuracy: 0.9795 - loss: 0.0559 - precision: 0.9881 - recall: 0.9710 - val_accuracy: 0.9825 - val_loss: 0.0494 - val_precision: 0.9867 - val_recall: 0.9781\n",
            "Epoch 6/50\n",
            "\u001b[1m970/970\u001b[0m \u001b[32m━━━━━━━━━━━━━━━━━━━━\u001b[0m\u001b[37m\u001b[0m \u001b[1m3s\u001b[0m 3ms/step - accuracy: 0.9828 - loss: 0.0503 - precision: 0.9868 - recall: 0.9789 - val_accuracy: 0.9827 - val_loss: 0.0441 - val_precision: 0.9892 - val_recall: 0.9761\n",
            "Epoch 7/50\n",
            "\u001b[1m970/970\u001b[0m \u001b[32m━━━━━━━━━━━━━━━━━━━━\u001b[0m\u001b[37m\u001b[0m \u001b[1m5s\u001b[0m 5ms/step - accuracy: 0.9857 - loss: 0.0441 - precision: 0.9877 - recall: 0.9836 - val_accuracy: 0.9872 - val_loss: 0.0387 - val_precision: 0.9894 - val_recall: 0.9849\n",
            "Epoch 8/50\n",
            "\u001b[1m970/970\u001b[0m \u001b[32m━━━━━━━━━━━━━━━━━━━━\u001b[0m\u001b[37m\u001b[0m \u001b[1m4s\u001b[0m 4ms/step - accuracy: 0.9881 - loss: 0.0398 - precision: 0.9875 - recall: 0.9887 - val_accuracy: 0.9903 - val_loss: 0.0343 - val_precision: 0.9884 - val_recall: 0.9923\n",
            "Epoch 9/50\n",
            "\u001b[1m970/970\u001b[0m \u001b[32m━━━━━━━━━━━━━━━━━━━━\u001b[0m\u001b[37m\u001b[0m \u001b[1m3s\u001b[0m 3ms/step - accuracy: 0.9904 - loss: 0.0349 - precision: 0.9892 - recall: 0.9916 - val_accuracy: 0.9914 - val_loss: 0.0324 - val_precision: 0.9862 - val_recall: 0.9968\n",
            "Epoch 10/50\n",
            "\u001b[1m970/970\u001b[0m \u001b[32m━━━━━━━━━━━━━━━━━━━━\u001b[0m\u001b[37m\u001b[0m \u001b[1m4s\u001b[0m 4ms/step - accuracy: 0.9913 - loss: 0.0332 - precision: 0.9887 - recall: 0.9941 - val_accuracy: 0.9923 - val_loss: 0.0291 - val_precision: 0.9886 - val_recall: 0.9960\n",
            "Epoch 11/50\n",
            "\u001b[1m970/970\u001b[0m \u001b[32m━━━━━━━━━━━━━━━━━━━━\u001b[0m\u001b[37m\u001b[0m \u001b[1m4s\u001b[0m 4ms/step - accuracy: 0.9917 - loss: 0.0315 - precision: 0.9883 - recall: 0.9951 - val_accuracy: 0.9932 - val_loss: 0.0267 - val_precision: 0.9908 - val_recall: 0.9957\n",
            "Epoch 12/50\n",
            "\u001b[1m970/970\u001b[0m \u001b[32m━━━━━━━━━━━━━━━━━━━━\u001b[0m\u001b[37m\u001b[0m \u001b[1m4s\u001b[0m 4ms/step - accuracy: 0.9929 - loss: 0.0279 - precision: 0.9893 - recall: 0.9964 - val_accuracy: 0.9941 - val_loss: 0.0248 - val_precision: 0.9913 - val_recall: 0.9969\n",
            "Epoch 13/50\n",
            "\u001b[1m970/970\u001b[0m \u001b[32m━━━━━━━━━━━━━━━━━━━━\u001b[0m\u001b[37m\u001b[0m \u001b[1m4s\u001b[0m 4ms/step - accuracy: 0.9939 - loss: 0.0257 - precision: 0.9909 - recall: 0.9970 - val_accuracy: 0.9944 - val_loss: 0.0231 - val_precision: 0.9912 - val_recall: 0.9977\n",
            "Epoch 14/50\n",
            "\u001b[1m970/970\u001b[0m \u001b[32m━━━━━━━━━━━━━━━━━━━━\u001b[0m\u001b[37m\u001b[0m \u001b[1m5s\u001b[0m 5ms/step - accuracy: 0.9941 - loss: 0.0246 - precision: 0.9907 - recall: 0.9976 - val_accuracy: 0.9941 - val_loss: 0.0221 - val_precision: 0.9896 - val_recall: 0.9986\n",
            "Epoch 15/50\n",
            "\u001b[1m970/970\u001b[0m \u001b[32m━━━━━━━━━━━━━━━━━━━━\u001b[0m\u001b[37m\u001b[0m \u001b[1m4s\u001b[0m 4ms/step - accuracy: 0.9941 - loss: 0.0229 - precision: 0.9905 - recall: 0.9978 - val_accuracy: 0.9946 - val_loss: 0.0209 - val_precision: 0.9921 - val_recall: 0.9970\n",
            "Epoch 16/50\n",
            "\u001b[1m970/970\u001b[0m \u001b[32m━━━━━━━━━━━━━━━━━━━━\u001b[0m\u001b[37m\u001b[0m \u001b[1m4s\u001b[0m 4ms/step - accuracy: 0.9953 - loss: 0.0218 - precision: 0.9921 - recall: 0.9986 - val_accuracy: 0.9947 - val_loss: 0.0195 - val_precision: 0.9906 - val_recall: 0.9988\n",
            "Epoch 17/50\n",
            "\u001b[1m970/970\u001b[0m \u001b[32m━━━━━━━━━━━━━━━━━━━━\u001b[0m\u001b[37m\u001b[0m \u001b[1m4s\u001b[0m 4ms/step - accuracy: 0.9951 - loss: 0.0208 - precision: 0.9918 - recall: 0.9984 - val_accuracy: 0.9961 - val_loss: 0.0195 - val_precision: 0.9949 - val_recall: 0.9973\n",
            "Epoch 18/50\n",
            "\u001b[1m970/970\u001b[0m \u001b[32m━━━━━━━━━━━━━━━━━━━━\u001b[0m\u001b[37m\u001b[0m \u001b[1m5s\u001b[0m 5ms/step - accuracy: 0.9955 - loss: 0.0200 - precision: 0.9923 - recall: 0.9987 - val_accuracy: 0.9953 - val_loss: 0.0178 - val_precision: 0.9912 - val_recall: 0.9995\n",
            "Epoch 19/50\n",
            "\u001b[1m970/970\u001b[0m \u001b[32m━━━━━━━━━━━━━━━━━━━━\u001b[0m\u001b[37m\u001b[0m \u001b[1m4s\u001b[0m 4ms/step - accuracy: 0.9957 - loss: 0.0188 - precision: 0.9924 - recall: 0.9990 - val_accuracy: 0.9959 - val_loss: 0.0165 - val_precision: 0.9924 - val_recall: 0.9995\n",
            "Epoch 20/50\n",
            "\u001b[1m970/970\u001b[0m \u001b[32m━━━━━━━━━━━━━━━━━━━━\u001b[0m\u001b[37m\u001b[0m \u001b[1m4s\u001b[0m 4ms/step - accuracy: 0.9959 - loss: 0.0180 - precision: 0.9924 - recall: 0.9993 - val_accuracy: 0.9965 - val_loss: 0.0161 - val_precision: 0.9934 - val_recall: 0.9995\n",
            "Epoch 21/50\n",
            "\u001b[1m970/970\u001b[0m \u001b[32m━━━━━━━━━━━━━━━━━━━━\u001b[0m\u001b[37m\u001b[0m \u001b[1m3s\u001b[0m 3ms/step - accuracy: 0.9958 - loss: 0.0179 - precision: 0.9924 - recall: 0.9993 - val_accuracy: 0.9952 - val_loss: 0.0180 - val_precision: 0.9927 - val_recall: 0.9977\n",
            "Epoch 22/50\n",
            "\u001b[1m970/970\u001b[0m \u001b[32m━━━━━━━━━━━━━━━━━━━━\u001b[0m\u001b[37m\u001b[0m \u001b[1m3s\u001b[0m 3ms/step - accuracy: 0.9959 - loss: 0.0183 - precision: 0.9927 - recall: 0.9991 - val_accuracy: 0.9967 - val_loss: 0.0147 - val_precision: 0.9937 - val_recall: 0.9998\n",
            "Epoch 23/50\n",
            "\u001b[1m970/970\u001b[0m \u001b[32m━━━━━━━━━━━━━━━━━━━━\u001b[0m\u001b[37m\u001b[0m \u001b[1m3s\u001b[0m 3ms/step - accuracy: 0.9964 - loss: 0.0159 - precision: 0.9933 - recall: 0.9996 - val_accuracy: 0.9967 - val_loss: 0.0145 - val_precision: 0.9939 - val_recall: 0.9996\n",
            "Epoch 24/50\n",
            "\u001b[1m970/970\u001b[0m \u001b[32m━━━━━━━━━━━━━━━━━━━━\u001b[0m\u001b[37m\u001b[0m \u001b[1m4s\u001b[0m 4ms/step - accuracy: 0.9962 - loss: 0.0162 - precision: 0.9930 - recall: 0.9995 - val_accuracy: 0.9969 - val_loss: 0.0140 - val_precision: 0.9939 - val_recall: 0.9999\n",
            "Epoch 25/50\n",
            "\u001b[1m970/970\u001b[0m \u001b[32m━━━━━━━━━━━━━━━━━━━━\u001b[0m\u001b[37m\u001b[0m \u001b[1m3s\u001b[0m 3ms/step - accuracy: 0.9969 - loss: 0.0151 - precision: 0.9941 - recall: 0.9997 - val_accuracy: 0.9965 - val_loss: 0.0170 - val_precision: 0.9953 - val_recall: 0.9977\n",
            "Epoch 26/50\n",
            "\u001b[1m970/970\u001b[0m \u001b[32m━━━━━━━━━━━━━━━━━━━━\u001b[0m\u001b[37m\u001b[0m \u001b[1m3s\u001b[0m 3ms/step - accuracy: 0.9966 - loss: 0.0154 - precision: 0.9939 - recall: 0.9993 - val_accuracy: 0.9973 - val_loss: 0.0131 - val_precision: 0.9950 - val_recall: 0.9997\n",
            "Epoch 27/50\n",
            "\u001b[1m970/970\u001b[0m \u001b[32m━━━━━━━━━━━━━━━━━━━━\u001b[0m\u001b[37m\u001b[0m \u001b[1m3s\u001b[0m 3ms/step - accuracy: 0.9968 - loss: 0.0143 - precision: 0.9940 - recall: 0.9997 - val_accuracy: 0.9971 - val_loss: 0.0126 - val_precision: 0.9945 - val_recall: 0.9997\n",
            "Epoch 28/50\n",
            "\u001b[1m970/970\u001b[0m \u001b[32m━━━━━━━━━━━━━━━━━━━━\u001b[0m\u001b[37m\u001b[0m \u001b[1m4s\u001b[0m 4ms/step - accuracy: 0.9968 - loss: 0.0147 - precision: 0.9940 - recall: 0.9997 - val_accuracy: 0.9975 - val_loss: 0.0123 - val_precision: 0.9953 - val_recall: 0.9998\n",
            "Epoch 29/50\n",
            "\u001b[1m970/970\u001b[0m \u001b[32m━━━━━━━━━━━━━━━━━━━━\u001b[0m\u001b[37m\u001b[0m \u001b[1m4s\u001b[0m 3ms/step - accuracy: 0.9968 - loss: 0.0144 - precision: 0.9940 - recall: 0.9996 - val_accuracy: 0.9969 - val_loss: 0.0125 - val_precision: 0.9940 - val_recall: 0.9998\n",
            "Epoch 30/50\n",
            "\u001b[1m970/970\u001b[0m \u001b[32m━━━━━━━━━━━━━━━━━━━━\u001b[0m\u001b[37m\u001b[0m \u001b[1m3s\u001b[0m 3ms/step - accuracy: 0.9969 - loss: 0.0135 - precision: 0.9941 - recall: 0.9997 - val_accuracy: 0.9973 - val_loss: 0.0117 - val_precision: 0.9945 - val_recall: 1.0000\n",
            "Epoch 31/50\n",
            "\u001b[1m970/970\u001b[0m \u001b[32m━━━━━━━━━━━━━━━━━━━━\u001b[0m\u001b[37m\u001b[0m \u001b[1m3s\u001b[0m 3ms/step - accuracy: 0.9973 - loss: 0.0123 - precision: 0.9949 - recall: 0.9998 - val_accuracy: 0.9976 - val_loss: 0.0113 - val_precision: 0.9953 - val_recall: 1.0000\n",
            "Epoch 32/50\n",
            "\u001b[1m970/970\u001b[0m \u001b[32m━━━━━━━━━━━━━━━━━━━━\u001b[0m\u001b[37m\u001b[0m \u001b[1m4s\u001b[0m 4ms/step - accuracy: 0.9971 - loss: 0.0131 - precision: 0.9944 - recall: 0.9999 - val_accuracy: 0.9975 - val_loss: 0.0110 - val_precision: 0.9954 - val_recall: 0.9997\n",
            "Epoch 33/50\n",
            "\u001b[1m970/970\u001b[0m \u001b[32m━━━━━━━━━━━━━━━━━━━━\u001b[0m\u001b[37m\u001b[0m \u001b[1m3s\u001b[0m 3ms/step - accuracy: 0.9973 - loss: 0.0125 - precision: 0.9948 - recall: 0.9997 - val_accuracy: 0.9973 - val_loss: 0.0114 - val_precision: 0.9947 - val_recall: 0.9999\n",
            "Epoch 34/50\n",
            "\u001b[1m970/970\u001b[0m \u001b[32m━━━━━━━━━━━━━━━━━━━━\u001b[0m\u001b[37m\u001b[0m \u001b[1m3s\u001b[0m 3ms/step - accuracy: 0.9974 - loss: 0.0128 - precision: 0.9949 - recall: 0.9998 - val_accuracy: 0.9978 - val_loss: 0.0106 - val_precision: 0.9957 - val_recall: 1.0000\n",
            "Epoch 35/50\n",
            "\u001b[1m970/970\u001b[0m \u001b[32m━━━━━━━━━━━━━━━━━━━━\u001b[0m\u001b[37m\u001b[0m \u001b[1m3s\u001b[0m 3ms/step - accuracy: 0.9974 - loss: 0.0119 - precision: 0.9952 - recall: 0.9997 - val_accuracy: 0.9973 - val_loss: 0.0102 - val_precision: 0.9945 - val_recall: 1.0000\n",
            "Epoch 36/50\n",
            "\u001b[1m970/970\u001b[0m \u001b[32m━━━━━━━━━━━━━━━━━━━━\u001b[0m\u001b[37m\u001b[0m \u001b[1m5s\u001b[0m 3ms/step - accuracy: 0.9977 - loss: 0.0115 - precision: 0.9956 - recall: 0.9999 - val_accuracy: 0.9981 - val_loss: 0.0100 - val_precision: 0.9963 - val_recall: 1.0000\n",
            "Epoch 37/50\n",
            "\u001b[1m970/970\u001b[0m \u001b[32m━━━━━━━━━━━━━━━━━━━━\u001b[0m\u001b[37m\u001b[0m \u001b[1m3s\u001b[0m 3ms/step - accuracy: 0.9978 - loss: 0.0114 - precision: 0.9957 - recall: 0.9999 - val_accuracy: 0.9981 - val_loss: 0.0097 - val_precision: 0.9961 - val_recall: 1.0000\n",
            "Epoch 38/50\n",
            "\u001b[1m970/970\u001b[0m \u001b[32m━━━━━━━━━━━━━━━━━━━━\u001b[0m\u001b[37m\u001b[0m \u001b[1m3s\u001b[0m 3ms/step - accuracy: 0.9974 - loss: 0.0115 - precision: 0.9949 - recall: 0.9999 - val_accuracy: 0.9978 - val_loss: 0.0095 - val_precision: 0.9958 - val_recall: 0.9999\n",
            "Epoch 39/50\n",
            "\u001b[1m970/970\u001b[0m \u001b[32m━━━━━━━━━━━━━━━━━━━━\u001b[0m\u001b[37m\u001b[0m \u001b[1m4s\u001b[0m 4ms/step - accuracy: 0.9979 - loss: 0.0104 - precision: 0.9960 - recall: 0.9999 - val_accuracy: 0.9980 - val_loss: 0.0095 - val_precision: 0.9963 - val_recall: 0.9998\n",
            "Epoch 40/50\n",
            "\u001b[1m970/970\u001b[0m \u001b[32m━━━━━━━━━━━━━━━━━━━━\u001b[0m\u001b[37m\u001b[0m \u001b[1m3s\u001b[0m 3ms/step - accuracy: 0.9979 - loss: 0.0103 - precision: 0.9959 - recall: 0.9999 - val_accuracy: 0.9979 - val_loss: 0.0098 - val_precision: 0.9959 - val_recall: 1.0000\n",
            "Epoch 41/50\n",
            "\u001b[1m970/970\u001b[0m \u001b[32m━━━━━━━━━━━━━━━━━━━━\u001b[0m\u001b[37m\u001b[0m \u001b[1m3s\u001b[0m 3ms/step - accuracy: 0.9977 - loss: 0.0112 - precision: 0.9955 - recall: 0.9999 - val_accuracy: 0.9984 - val_loss: 0.0096 - val_precision: 0.9972 - val_recall: 0.9996\n",
            "Epoch 42/50\n",
            "\u001b[1m970/970\u001b[0m \u001b[32m━━━━━━━━━━━━━━━━━━━━\u001b[0m\u001b[37m\u001b[0m \u001b[1m3s\u001b[0m 3ms/step - accuracy: 0.9977 - loss: 0.0106 - precision: 0.9956 - recall: 0.9998 - val_accuracy: 0.9975 - val_loss: 0.0094 - val_precision: 0.9951 - val_recall: 1.0000\n",
            "Epoch 43/50\n",
            "\u001b[1m970/970\u001b[0m \u001b[32m━━━━━━━━━━━━━━━━━━━━\u001b[0m\u001b[37m\u001b[0m \u001b[1m4s\u001b[0m 4ms/step - accuracy: 0.9980 - loss: 0.0097 - precision: 0.9961 - recall: 0.9999 - val_accuracy: 0.9975 - val_loss: 0.0091 - val_precision: 0.9951 - val_recall: 1.0000\n",
            "Epoch 44/50\n",
            "\u001b[1m970/970\u001b[0m \u001b[32m━━━━━━━━━━━━━━━━━━━━\u001b[0m\u001b[37m\u001b[0m \u001b[1m3s\u001b[0m 3ms/step - accuracy: 0.9978 - loss: 0.0100 - precision: 0.9959 - recall: 0.9998 - val_accuracy: 0.9978 - val_loss: 0.0091 - val_precision: 0.9959 - val_recall: 0.9997\n",
            "Epoch 45/50\n",
            "\u001b[1m970/970\u001b[0m \u001b[32m━━━━━━━━━━━━━━━━━━━━\u001b[0m\u001b[37m\u001b[0m \u001b[1m3s\u001b[0m 3ms/step - accuracy: 0.9979 - loss: 0.0095 - precision: 0.9961 - recall: 0.9998 - val_accuracy: 0.9977 - val_loss: 0.0087 - val_precision: 0.9955 - val_recall: 1.0000\n",
            "Epoch 46/50\n",
            "\u001b[1m970/970\u001b[0m \u001b[32m━━━━━━━━━━━━━━━━━━━━\u001b[0m\u001b[37m\u001b[0m \u001b[1m4s\u001b[0m 4ms/step - accuracy: 0.9978 - loss: 0.0102 - precision: 0.9957 - recall: 0.9999 - val_accuracy: 0.9978 - val_loss: 0.0092 - val_precision: 0.9957 - val_recall: 1.0000\n",
            "Epoch 47/50\n",
            "\u001b[1m970/970\u001b[0m \u001b[32m━━━━━━━━━━━━━━━━━━━━\u001b[0m\u001b[37m\u001b[0m \u001b[1m3s\u001b[0m 3ms/step - accuracy: 0.9979 - loss: 0.0100 - precision: 0.9958 - recall: 0.9999 - val_accuracy: 0.9984 - val_loss: 0.0087 - val_precision: 0.9969 - val_recall: 1.0000\n",
            "Epoch 48/50\n",
            "\u001b[1m970/970\u001b[0m \u001b[32m━━━━━━━━━━━━━━━━━━━━\u001b[0m\u001b[37m\u001b[0m \u001b[1m3s\u001b[0m 3ms/step - accuracy: 0.9979 - loss: 0.0090 - precision: 0.9958 - recall: 0.9999 - val_accuracy: 0.9982 - val_loss: 0.0084 - val_precision: 0.9963 - val_recall: 1.0000\n",
            "Epoch 49/50\n",
            "\u001b[1m970/970\u001b[0m \u001b[32m━━━━━━━━━━━━━━━━━━━━\u001b[0m\u001b[37m\u001b[0m \u001b[1m3s\u001b[0m 3ms/step - accuracy: 0.9981 - loss: 0.0084 - precision: 0.9963 - recall: 1.0000 - val_accuracy: 0.9983 - val_loss: 0.0085 - val_precision: 0.9967 - val_recall: 0.9999\n",
            "Epoch 50/50\n",
            "\u001b[1m970/970\u001b[0m \u001b[32m━━━━━━━━━━━━━━━━━━━━\u001b[0m\u001b[37m\u001b[0m \u001b[1m4s\u001b[0m 4ms/step - accuracy: 0.9980 - loss: 0.0090 - precision: 0.9961 - recall: 0.9999 - val_accuracy: 0.9985 - val_loss: 0.0083 - val_precision: 0.9971 - val_recall: 1.0000\n"
          ]
        }
      ],
      "source": [
        "history = model.fit(\n",
        "    X_train, y_train,\n",
        "    validation_split=0.2,\n",
        "    epochs=50,      # Colab-friendly\n",
        "    batch_size=128\n",
        ")"
      ]
    },
    {
      "cell_type": "code",
      "execution_count": 13,
      "metadata": {
        "colab": {
          "base_uri": "https://localhost:8080/"
        },
        "id": "wiOOZ3YiuAWS",
        "outputId": "17ba6896-e38c-4c6d-b189-1dd925a9585a"
      },
      "outputs": [
        {
          "output_type": "stream",
          "name": "stdout",
          "text": [
            "\u001b[1m1212/1212\u001b[0m \u001b[32m━━━━━━━━━━━━━━━━━━━━\u001b[0m\u001b[37m\u001b[0m \u001b[1m1s\u001b[0m 1ms/step\n",
            "\n",
            "✅ Test Loss: 0.0105\n",
            "✅ Test Accuracy: 99.80%\n",
            "✅ Test Precision: 99.60%\n",
            "✅ Test Recall: 100.00%\n",
            "✅ Test F1 Score: 99.80%\n",
            "\n",
            "Confusion Matrix:\n",
            "[[19307    77]\n",
            " [    0 19384]]\n",
            "\n",
            "Training Accuracy: 99.81%\n",
            "Validation Accuracy: 99.85%\n",
            "Training Loss: 0.0092\n",
            "Validation Loss: 0.0083\n",
            "Training Recall: 99.99%\n",
            "Validation Recall: 100.00%\n"
          ]
        }
      ],
      "source": [
        "y_pred_probs = model.predict(X_test)\n",
        "y_pred_classes = (y_pred_probs > 0.5).astype(int).flatten()\n",
        "\n",
        "test_loss, test_accuracy, test_precision, test_recall = model.evaluate(X_test, y_test, verbose=0)\n",
        "f1 = f1_score(y_test, y_pred_classes)\n",
        "precision = precision_score(y_test, y_pred_classes)\n",
        "recall = recall_score(y_test, y_pred_classes)\n",
        "conf_matrix = confusion_matrix(y_test, y_pred_classes)\n",
        "\n",
        "print(f\"\\n✅ Test Loss: {test_loss:.4f}\")\n",
        "print(f\"✅ Test Accuracy: {test_accuracy * 100:.2f}%\")\n",
        "print(f\"✅ Test Precision: {precision * 100:.2f}%\")\n",
        "print(f\"✅ Test Recall: {recall * 100:.2f}%\")\n",
        "print(f\"✅ Test F1 Score: {f1 * 100:.2f}%\")\n",
        "print(f\"\\nConfusion Matrix:\\n{conf_matrix}\")\n",
        "\n",
        "# Extract and print training and validation metrics\n",
        "print(f\"\\nTraining Accuracy: {history.history['accuracy'][-1] * 100:.2f}%\")\n",
        "print(f\"Validation Accuracy: {history.history['val_accuracy'][-1] * 100:.2f}%\")\n",
        "print(f\"Training Loss: {history.history['loss'][-1]:.4f}\")\n",
        "print(f\"Validation Loss: {history.history['val_loss'][-1]:.4f}\")\n",
        "print(f\"Training Recall: {history.history['recall'][-1] * 100:.2f}%\")\n",
        "print(f\"Validation Recall: {history.history['val_recall'][-1] * 100:.2f}%\")"
      ]
    },
    {
      "cell_type": "code",
      "execution_count": 14,
      "metadata": {
        "colab": {
          "base_uri": "https://localhost:8080/",
          "height": 487
        },
        "id": "XrFAFQK7xdxV",
        "outputId": "3f9a8ed0-c0a9-4056-f798-3f6a79816555"
      },
      "outputs": [
        {
          "output_type": "display_data",
          "data": {
            "text/plain": [
              "<Figure size 1200x500 with 2 Axes>"
            ],
            "image/png": "[encoded data removed]"
          },
          "metadata": {}
        }
      ],
      "source": [
        "plt.figure(figsize=(12,5))\n",
        "plt.subplot(1,2,1)\n",
        "plt.plot(history.history['accuracy'], label='Train Acc')\n",
        "plt.plot(history.history['val_accuracy'], label='Val Acc')\n",
        "plt.title(\"Accuracy\")\n",
        "plt.xlabel(\"Epochs\")\n",
        "plt.ylabel(\"Accuracy\")\n",
        "plt.legend()\n",
        "\n",
        "plt.subplot(1,2,2)\n",
        "plt.plot(history.history['loss'], label='Train Loss')\n",
        "plt.plot(history.history['val_loss'], label='Val Loss')\n",
        "plt.title(\"Loss\")\n",
        "plt.xlabel(\"Epochs\")\n",
        "plt.ylabel(\"Loss\")\n",
        "plt.legend()\n",
        "\n",
        "plt.show()"
      ]
    },
    {
      "cell_type": "code",
      "source": [],
      "metadata": {
        "id": "bn1MSKTme1g6"
      },
      "execution_count": null,
      "outputs": []
    }
  ],
  "metadata": {
    "accelerator": "GPU",
    "colab": {
      "gpuType": "T4",
      "provenance": []
    },
    "kernelspec": {
      "display_name": "Python 3",
      "name": "python3"
    },
    "language_info": {
      "name": "python"
    }
  },
  "nbformat": 4,
  "nbformat_minor": 0
}