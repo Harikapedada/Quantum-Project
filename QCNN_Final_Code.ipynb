{
  "cells": [
    {
      "cell_type": "code",
      "execution_count": 36,
      "metadata": {
        "colab": {
          "base_uri": "https://localhost:8080/"
        },
        "id": "vkydsgutsC0g",
        "outputId": "bb81c719-6c52-4ddc-9f71-ddf4f9a4f299"
      },
      "outputs": [
        {
          "output_type": "stream",
          "name": "stdout",
          "text": [
            "Requirement already satisfied: pennylane in /usr/local/lib/python3.12/dist-packages (0.42.3)\n",
            "Requirement already satisfied: tensorflow in /usr/local/lib/python3.12/dist-packages (2.19.0)\n",
            "Requirement already satisfied: imbalanced-learn in /usr/local/lib/python3.12/dist-packages (0.14.0)\n",
            "Requirement already satisfied: scikit-learn in /usr/local/lib/python3.12/dist-packages (1.6.1)\n",
            "Requirement already satisfied: matplotlib in /usr/local/lib/python3.12/dist-packages (3.10.0)\n",
            "Requirement already satisfied: scipy in /usr/local/lib/python3.12/dist-packages (from pennylane) (1.16.1)\n",
            "Requirement already satisfied: networkx in /usr/local/lib/python3.12/dist-packages (from pennylane) (3.5)\n",
            "Requirement already satisfied: rustworkx>=0.14.0 in /usr/local/lib/python3.12/dist-packages (from pennylane) (0.17.1)\n",
            "Requirement already satisfied: autograd in /usr/local/lib/python3.12/dist-packages (from pennylane) (1.8.0)\n",
            "Requirement already satisfied: appdirs in /usr/local/lib/python3.12/dist-packages (from pennylane) (1.4.4)\n",
            "Requirement already satisfied: autoray<0.8,>=0.6.11 in /usr/local/lib/python3.12/dist-packages (from pennylane) (0.7.2)\n",
            "Requirement already satisfied: cachetools in /usr/local/lib/python3.12/dist-packages (from pennylane) (5.5.2)\n",
            "Requirement already satisfied: pennylane-lightning>=0.42 in /usr/local/lib/python3.12/dist-packages (from pennylane) (0.42.0)\n",
            "Requirement already satisfied: requests in /usr/local/lib/python3.12/dist-packages (from pennylane) (2.32.4)\n",
            "Requirement already satisfied: tomlkit in /usr/local/lib/python3.12/dist-packages (from pennylane) (0.13.3)\n",
            "Requirement already satisfied: typing_extensions in /usr/local/lib/python3.12/dist-packages (from pennylane) (4.15.0)\n",
            "Requirement already satisfied: packaging in /usr/local/lib/python3.12/dist-packages (from pennylane) (25.0)\n",
            "Requirement already satisfied: diastatic-malt in /usr/local/lib/python3.12/dist-packages (from pennylane) (2.15.2)\n",
            "Requirement already satisfied: numpy in /usr/local/lib/python3.12/dist-packages (from pennylane) (2.0.2)\n",
            "Requirement already satisfied: absl-py>=1.0.0 in /usr/local/lib/python3.12/dist-packages (from tensorflow) (1.4.0)\n",
            "Requirement already satisfied: astunparse>=1.6.0 in /usr/local/lib/python3.12/dist-packages (from tensorflow) (1.6.3)\n",
            "Requirement already satisfied: flatbuffers>=24.3.25 in /usr/local/lib/python3.12/dist-packages (from tensorflow) (25.2.10)\n",
            "Requirement already satisfied: gast!=0.5.0,!=0.5.1,!=0.5.2,>=0.2.1 in /usr/local/lib/python3.12/dist-packages (from tensorflow) (0.6.0)\n",
            "Requirement already satisfied: google-pasta>=0.1.1 in /usr/local/lib/python3.12/dist-packages (from tensorflow) (0.2.0)\n",
            "Requirement already satisfied: libclang>=13.0.0 in /usr/local/lib/python3.12/dist-packages (from tensorflow) (18.1.1)\n",
            "Requirement already satisfied: opt-einsum>=2.3.2 in /usr/local/lib/python3.12/dist-packages (from tensorflow) (3.4.0)\n",
            "Requirement already satisfied: protobuf!=4.21.0,!=4.21.1,!=4.21.2,!=4.21.3,!=4.21.4,!=4.21.5,<6.0.0dev,>=3.20.3 in /usr/local/lib/python3.12/dist-packages (from tensorflow) (5.29.5)\n",
            "Requirement already satisfied: setuptools in /usr/local/lib/python3.12/dist-packages (from tensorflow) (75.2.0)\n",
            "Requirement already satisfied: six>=1.12.0 in /usr/local/lib/python3.12/dist-packages (from tensorflow) (1.17.0)\n",
            "Requirement already satisfied: termcolor>=1.1.0 in /usr/local/lib/python3.12/dist-packages (from tensorflow) (3.1.0)\n",
            "Requirement already satisfied: wrapt>=1.11.0 in /usr/local/lib/python3.12/dist-packages (from tensorflow) (1.17.3)\n",
            "Requirement already satisfied: grpcio<2.0,>=1.24.3 in /usr/local/lib/python3.12/dist-packages (from tensorflow) (1.74.0)\n",
            "Requirement already satisfied: tensorboard~=2.19.0 in /usr/local/lib/python3.12/dist-packages (from tensorflow) (2.19.0)\n",
            "Requirement already satisfied: keras>=3.5.0 in /usr/local/lib/python3.12/dist-packages (from tensorflow) (3.10.0)\n",
            "Requirement already satisfied: h5py>=3.11.0 in /usr/local/lib/python3.12/dist-packages (from tensorflow) (3.14.0)\n",
            "Requirement already satisfied: ml-dtypes<1.0.0,>=0.5.1 in /usr/local/lib/python3.12/dist-packages (from tensorflow) (0.5.3)\n",
            "Requirement already satisfied: joblib<2,>=1.2.0 in /usr/local/lib/python3.12/dist-packages (from imbalanced-learn) (1.5.2)\n",
            "Requirement already satisfied: threadpoolctl<4,>=2.0.0 in /usr/local/lib/python3.12/dist-packages (from imbalanced-learn) (3.6.0)\n",
            "Requirement already satisfied: contourpy>=1.0.1 in /usr/local/lib/python3.12/dist-packages (from matplotlib) (1.3.3)\n",
            "Requirement already satisfied: cycler>=0.10 in /usr/local/lib/python3.12/dist-packages (from matplotlib) (0.12.1)\n",
            "Requirement already satisfied: fonttools>=4.22.0 in /usr/local/lib/python3.12/dist-packages (from matplotlib) (4.59.2)\n",
            "Requirement already satisfied: kiwisolver>=1.3.1 in /usr/local/lib/python3.12/dist-packages (from matplotlib) (1.4.9)\n",
            "Requirement already satisfied: pillow>=8 in /usr/local/lib/python3.12/dist-packages (from matplotlib) (11.3.0)\n",
            "Requirement already satisfied: pyparsing>=2.3.1 in /usr/local/lib/python3.12/dist-packages (from matplotlib) (3.2.3)\n",
            "Requirement already satisfied: python-dateutil>=2.7 in /usr/local/lib/python3.12/dist-packages (from matplotlib) (2.9.0.post0)\n",
            "Requirement already satisfied: wheel<1.0,>=0.23.0 in /usr/local/lib/python3.12/dist-packages (from astunparse>=1.6.0->tensorflow) (0.45.1)\n",
            "Requirement already satisfied: rich in /usr/local/lib/python3.12/dist-packages (from keras>=3.5.0->tensorflow) (13.9.4)\n",
            "Requirement already satisfied: namex in /usr/local/lib/python3.12/dist-packages (from keras>=3.5.0->tensorflow) (0.1.0)\n",
            "Requirement already satisfied: optree in /usr/local/lib/python3.12/dist-packages (from keras>=3.5.0->tensorflow) (0.17.0)\n",
            "Requirement already satisfied: scipy-openblas32>=0.3.26 in /usr/local/lib/python3.12/dist-packages (from pennylane-lightning>=0.42->pennylane) (0.3.30.0.2)\n",
            "Requirement already satisfied: charset_normalizer<4,>=2 in /usr/local/lib/python3.12/dist-packages (from requests->pennylane) (3.4.3)\n",
            "Requirement already satisfied: idna<4,>=2.5 in /usr/local/lib/python3.12/dist-packages (from requests->pennylane) (3.10)\n",
            "Requirement already satisfied: urllib3<3,>=1.21.1 in /usr/local/lib/python3.12/dist-packages (from requests->pennylane) (2.5.0)\n",
            "Requirement already satisfied: certifi>=2017.4.17 in /usr/local/lib/python3.12/dist-packages (from requests->pennylane) (2025.8.3)\n",
            "Requirement already satisfied: markdown>=2.6.8 in /usr/local/lib/python3.12/dist-packages (from tensorboard~=2.19.0->tensorflow) (3.9)\n",
            "Requirement already satisfied: tensorboard-data-server<0.8.0,>=0.7.0 in /usr/local/lib/python3.12/dist-packages (from tensorboard~=2.19.0->tensorflow) (0.7.2)\n",
            "Requirement already satisfied: werkzeug>=1.0.1 in /usr/local/lib/python3.12/dist-packages (from tensorboard~=2.19.0->tensorflow) (3.1.3)\n",
            "Requirement already satisfied: MarkupSafe>=2.1.1 in /usr/local/lib/python3.12/dist-packages (from werkzeug>=1.0.1->tensorboard~=2.19.0->tensorflow) (3.0.2)\n",
            "Requirement already satisfied: markdown-it-py>=2.2.0 in /usr/local/lib/python3.12/dist-packages (from rich->keras>=3.5.0->tensorflow) (4.0.0)\n",
            "Requirement already satisfied: pygments<3.0.0,>=2.13.0 in /usr/local/lib/python3.12/dist-packages (from rich->keras>=3.5.0->tensorflow) (2.19.2)\n",
            "Requirement already satisfied: mdurl~=0.1 in /usr/local/lib/python3.12/dist-packages (from markdown-it-py>=2.2.0->rich->keras>=3.5.0->tensorflow) (0.1.2)\n"
          ]
        }
      ],
      "source": [
        "# Step 0: Install and import libraries\n",
        "!pip install pennylane tensorflow imbalanced-learn scikit-learn matplotlib"
      ]
    },
    {
      "cell_type": "code",
      "execution_count": 37,
      "metadata": {
        "id": "yZiyXBB8sGM4"
      },
      "outputs": [],
      "source": [
        "import pandas as pd\n",
        "import numpy as np\n",
        "from sklearn.model_selection import train_test_split\n",
        "from sklearn.preprocessing import StandardScaler\n",
        "from sklearn.decomposition import PCA\n",
        "from imblearn.over_sampling import SMOTE\n",
        "from sklearn.impute import SimpleImputer\n",
        "from sklearn.metrics import f1_score, precision_score, recall_score, confusion_matrix\n",
        "import tensorflow as tf\n",
        "import pennylane as qml\n",
        "import matplotlib.pyplot as plt"
      ]
    },
    {
      "cell_type": "code",
      "execution_count": 38,
      "metadata": {
        "id": "-fmy399fs0fi"
      },
      "outputs": [],
      "source": [
        "df = pd.read_csv(\"/content/creditcard.csv\")\n",
        "\n",
        "# Features and labels\n",
        "X = df.drop(columns=[\"Time\", \"Class\"])\n",
        "y = df[\"Class\"]"
      ]
    },
    {
      "cell_type": "code",
      "execution_count": 39,
      "metadata": {
        "colab": {
          "base_uri": "https://localhost:8080/"
        },
        "id": "u_HPD7H2tCkV",
        "outputId": "a3a7ae7b-3f11-4899-d68e-a875c920c644"
      },
      "outputs": [
        {
          "output_type": "stream",
          "name": "stdout",
          "text": [
            "PCA Explained Variance: [0.06923055 0.0550545  0.05026256 0.0457551  0.04391867 0.04059265\n",
            " 0.03917467 0.03777585]\n"
          ]
        }
      ],
      "source": [
        "# Standard scaling\n",
        "scaler = StandardScaler()\n",
        "X_scaled = scaler.fit_transform(X)\n",
        "\n",
        "# Handle missing values\n",
        "imputer = SimpleImputer(strategy='mean')\n",
        "X_scaled_imputed = imputer.fit_transform(X_scaled)\n",
        "\n",
        "# PCA to 8 components for 8 qubits\n",
        "pca = PCA(n_components=28)\n",
        "X_pca = pca.fit_transform(X_scaled_imputed)\n",
        "print(f\"PCA Explained Variance: {pca.explained_variance_ratio_}\")"
      ]
    },
    {
      "cell_type": "code",
      "execution_count": 40,
      "metadata": {
        "colab": {
          "base_uri": "https://localhost:8080/"
        },
        "id": "2oPiZkJcvdkv",
        "outputId": "f8908873-0917-412d-d327-9ba7ba593dcb"
      },
      "outputs": [
        {
          "output_type": "stream",
          "name": "stdout",
          "text": [
            "Balanced class distribution: {np.float64(0.0): np.int64(166151), np.float64(1.0): np.int64(166151)}\n"
          ]
        }
      ],
      "source": [
        "X_cleaned = X_pca[~np.isnan(y)]\n",
        "y_cleaned = y[~np.isnan(y)]\n",
        "\n",
        "# SMOTE for class balancing\n",
        "smote = SMOTE(random_state=42, k_neighbors=2)\n",
        "X_balanced, y_balanced = smote.fit_resample(X_cleaned, y_cleaned)\n",
        "print(f\"Balanced class distribution: {dict(zip(*np.unique(y_balanced, return_counts=True)))}\")\n"
      ]
    },
    {
      "cell_type": "code",
      "execution_count": 41,
      "metadata": {
        "id": "BsutX97mwUS1"
      },
      "outputs": [],
      "source": [
        "X_train, X_test, y_train, y_test = train_test_split(\n",
        "    X_balanced, y_balanced, test_size=0.2, stratify=y_balanced, random_state=42\n",
        ")\n",
        "\n",
        "y_train = y_train.to_numpy().flatten()\n",
        "y_test = y_test.to_numpy().flatten()\n"
      ]
    },
    {
      "cell_type": "code",
      "execution_count": 42,
      "metadata": {
        "id": "UBxX6LSXwWBi"
      },
      "outputs": [],
      "source": [
        "import pennylane as qml\n",
        "import tensorflow as tf\n",
        "\n",
        "n_qubits = 28\n",
        "dev = qml.device(\"default.qubit\", wires=n_qubits)\n",
        "\n",
        "# QNode\n",
        "def quantum_circuit(inputs, weights_conv, weights_pool):\n",
        "    qml.templates.AngleEmbedding(inputs, wires=range(n_qubits))\n",
        "    qml.templates.StronglyEntanglingLayers(weights_conv, wires=range(n_qubits))\n",
        "\n",
        "    # Quantum pooling example\n",
        "    for i in range(0, n_qubits, 2):\n",
        "        qml.CNOT(wires=[i, i+1])\n",
        "        qml.RY(weights_pool[i//2], wires=i)\n",
        "\n",
        "    return [qml.expval(qml.PauliZ(i)) for i in range(n_qubits//2)]"
      ]
    },
    {
      "cell_type": "code",
      "execution_count": 43,
      "metadata": {
        "id": "Kgf_8E01ws7_"
      },
      "outputs": [],
      "source": [
        "weight_shapes = {\n",
        "    \"weights_conv\": (2, n_qubits, 3),\n",
        "    \"weights_pool\": (n_qubits//2,)\n",
        "}\n",
        "\n",
        "# Wrap QNode into a Keras Layer\n",
        "qnode = qml.QNode(quantum_circuit, dev, interface=\"tf\")\n",
        "\n",
        "class QuantumLayer(tf.keras.layers.Layer):\n",
        "    def __init__(self):\n",
        "        super().__init__()\n",
        "        self.qnode = qnode\n",
        "        # Trainable weights\n",
        "        self.weights_conv = tf.Variable(tf.random.normal(shape=weight_shapes[\"weights_conv\"]), trainable=True)\n",
        "        self.weights_pool = tf.Variable(tf.random.normal(shape=weight_shapes[\"weights_pool\"]), trainable=True)\n",
        "\n",
        "    def call(self, inputs):\n",
        "        return self.qnode(inputs, self.weights_conv, self.weights_pool)"
      ]
    },
    {
      "cell_type": "code",
      "execution_count": 44,
      "metadata": {
        "id": "nONu3aLZwa7V"
      },
      "outputs": [],
      "source": [
        "class QuantumLayer(tf.keras.layers.Layer):\n",
        "    def __init__(self):\n",
        "        super().__init__()\n",
        "        self.qnode = qnode\n",
        "        self.weights_conv = tf.Variable(tf.random.normal(shape=weight_shapes[\"weights_conv\"]), trainable=True)\n",
        "        self.weights_pool = tf.Variable(tf.random.normal(shape=weight_shapes[\"weights_pool\"]), trainable=True)\n",
        "\n",
        "    def call(self, inputs):\n",
        "        outputs = self.qnode(inputs, self.weights_conv, self.weights_pool)  # List of expectation values\n",
        "        # Convert list to tensor of shape (batch_size, n_qubits//2)\n",
        "        return tf.stack(outputs, axis=1)\n"
      ]
    },
    {
      "cell_type": "code",
      "execution_count": 45,
      "metadata": {
        "id": "4VTWVFC2w2U0"
      },
      "outputs": [],
      "source": [
        "model = tf.keras.models.Sequential([\n",
        "    tf.keras.layers.Input(shape=(X_train.shape[1],)),  # Ensure input shape is correct (12)\n",
        "    tf.keras.layers.Dense(64, activation='relu'),  # Temporarily replace quantum layer with a dense layer\n",
        "    tf.keras.layers.Dense(1, activation=\"sigmoid\")\n",
        "])\n",
        "\n",
        "# Compile the model\n",
        "model.compile(\n",
        "    optimizer=tf.keras.optimizers.Adam(learning_rate=0.001),\n",
        "    loss=\"binary_crossentropy\",\n",
        "    metrics=[\"accuracy\", tf.keras.metrics.Precision(), tf.keras.metrics.Recall()]\n",
        ")\n"
      ]
    },
    {
      "cell_type": "code",
      "execution_count": 46,
      "metadata": {
        "colab": {
          "base_uri": "https://localhost:8080/"
        },
        "id": "QvdX62PrkHxe",
        "outputId": "f2433918-4dc5-4804-9a15-e31aafc94c9b"
      },
      "outputs": [
        {
          "output_type": "stream",
          "name": "stdout",
          "text": [
            "Epoch 1/50\n",
            "\u001b[1m6646/6646\u001b[0m \u001b[32m━━━━━━━━━━━━━━━━━━━━\u001b[0m\u001b[37m\u001b[0m \u001b[1m31s\u001b[0m 5ms/step - accuracy: 0.9235 - loss: 0.1929 - precision_3: 0.9708 - recall_3: 0.8750 - val_accuracy: 0.9544 - val_loss: 0.1251 - val_precision_3: 0.9814 - val_recall_3: 0.9267\n",
            "Epoch 2/50\n",
            "\u001b[1m6646/6646\u001b[0m \u001b[32m━━━━━━━━━━━━━━━━━━━━\u001b[0m\u001b[37m\u001b[0m \u001b[1m15s\u001b[0m 2ms/step - accuracy: 0.9558 - loss: 0.1150 - precision_3: 0.9806 - recall_3: 0.9300 - val_accuracy: 0.9638 - val_loss: 0.0963 - val_precision_3: 0.9813 - val_recall_3: 0.9459\n",
            "Epoch 3/50\n",
            "\u001b[1m6646/6646\u001b[0m \u001b[32m━━━━━━━━━━━━━━━━━━━━\u001b[0m\u001b[37m\u001b[0m \u001b[1m15s\u001b[0m 2ms/step - accuracy: 0.9657 - loss: 0.0901 - precision_3: 0.9812 - recall_3: 0.9494 - val_accuracy: 0.9673 - val_loss: 0.0823 - val_precision_3: 0.9844 - val_recall_3: 0.9499\n",
            "Epoch 4/50\n",
            "\u001b[1m6646/6646\u001b[0m \u001b[32m━━━━━━━━━━━━━━━━━━━━\u001b[0m\u001b[37m\u001b[0m \u001b[1m20s\u001b[0m 2ms/step - accuracy: 0.9711 - loss: 0.0753 - precision_3: 0.9818 - recall_3: 0.9600 - val_accuracy: 0.9732 - val_loss: 0.0705 - val_precision_3: 0.9753 - val_recall_3: 0.9711\n",
            "Epoch 5/50\n",
            "\u001b[1m6646/6646\u001b[0m \u001b[32m━━━━━━━━━━━━━━━━━━━━\u001b[0m\u001b[37m\u001b[0m \u001b[1m21s\u001b[0m 2ms/step - accuracy: 0.9753 - loss: 0.0657 - precision_3: 0.9823 - recall_3: 0.9679 - val_accuracy: 0.9785 - val_loss: 0.0588 - val_precision_3: 0.9850 - val_recall_3: 0.9719\n",
            "Epoch 6/50\n",
            "\u001b[1m6646/6646\u001b[0m \u001b[32m━━━━━━━━━━━━━━━━━━━━\u001b[0m\u001b[37m\u001b[0m \u001b[1m20s\u001b[0m 2ms/step - accuracy: 0.9798 - loss: 0.0575 - precision_3: 0.9840 - recall_3: 0.9754 - val_accuracy: 0.9834 - val_loss: 0.0524 - val_precision_3: 0.9855 - val_recall_3: 0.9812\n",
            "Epoch 7/50\n",
            "\u001b[1m6646/6646\u001b[0m \u001b[32m━━━━━━━━━━━━━━━━━━━━\u001b[0m\u001b[37m\u001b[0m \u001b[1m20s\u001b[0m 3ms/step - accuracy: 0.9833 - loss: 0.0505 - precision_3: 0.9856 - recall_3: 0.9808 - val_accuracy: 0.9848 - val_loss: 0.0481 - val_precision_3: 0.9875 - val_recall_3: 0.9820\n",
            "Epoch 8/50\n",
            "\u001b[1m6646/6646\u001b[0m \u001b[32m━━━━━━━━━━━━━━━━━━━━\u001b[0m\u001b[37m\u001b[0m \u001b[1m15s\u001b[0m 2ms/step - accuracy: 0.9859 - loss: 0.0456 - precision_3: 0.9867 - recall_3: 0.9851 - val_accuracy: 0.9863 - val_loss: 0.0449 - val_precision_3: 0.9879 - val_recall_3: 0.9848\n",
            "Epoch 9/50\n",
            "\u001b[1m6646/6646\u001b[0m \u001b[32m━━━━━━━━━━━━━━━━━━━━\u001b[0m\u001b[37m\u001b[0m \u001b[1m21s\u001b[0m 2ms/step - accuracy: 0.9876 - loss: 0.0413 - precision_3: 0.9873 - recall_3: 0.9879 - val_accuracy: 0.9874 - val_loss: 0.0428 - val_precision_3: 0.9867 - val_recall_3: 0.9883\n",
            "Epoch 10/50\n",
            "\u001b[1m6646/6646\u001b[0m \u001b[32m━━━━━━━━━━━━━━━━━━━━\u001b[0m\u001b[37m\u001b[0m \u001b[1m15s\u001b[0m 2ms/step - accuracy: 0.9887 - loss: 0.0385 - precision_3: 0.9881 - recall_3: 0.9894 - val_accuracy: 0.9892 - val_loss: 0.0368 - val_precision_3: 0.9869 - val_recall_3: 0.9916\n",
            "Epoch 11/50\n",
            "\u001b[1m6646/6646\u001b[0m \u001b[32m━━━━━━━━━━━━━━━━━━━━\u001b[0m\u001b[37m\u001b[0m \u001b[1m15s\u001b[0m 2ms/step - accuracy: 0.9907 - loss: 0.0349 - precision_3: 0.9894 - recall_3: 0.9920 - val_accuracy: 0.9886 - val_loss: 0.0360 - val_precision_3: 0.9888 - val_recall_3: 0.9884\n",
            "Epoch 12/50\n",
            "\u001b[1m6646/6646\u001b[0m \u001b[32m━━━━━━━━━━━━━━━━━━━━\u001b[0m\u001b[37m\u001b[0m \u001b[1m15s\u001b[0m 2ms/step - accuracy: 0.9911 - loss: 0.0333 - precision_3: 0.9897 - recall_3: 0.9925 - val_accuracy: 0.9912 - val_loss: 0.0330 - val_precision_3: 0.9900 - val_recall_3: 0.9925\n",
            "Epoch 13/50\n",
            "\u001b[1m6646/6646\u001b[0m \u001b[32m━━━━━━━━━━━━━━━━━━━━\u001b[0m\u001b[37m\u001b[0m \u001b[1m15s\u001b[0m 2ms/step - accuracy: 0.9919 - loss: 0.0307 - precision_3: 0.9901 - recall_3: 0.9937 - val_accuracy: 0.9918 - val_loss: 0.0302 - val_precision_3: 0.9925 - val_recall_3: 0.9912\n",
            "Epoch 14/50\n",
            "\u001b[1m6646/6646\u001b[0m \u001b[32m━━━━━━━━━━━━━━━━━━━━\u001b[0m\u001b[37m\u001b[0m \u001b[1m21s\u001b[0m 2ms/step - accuracy: 0.9924 - loss: 0.0292 - precision_3: 0.9906 - recall_3: 0.9943 - val_accuracy: 0.9915 - val_loss: 0.0314 - val_precision_3: 0.9930 - val_recall_3: 0.9900\n",
            "Epoch 15/50\n",
            "\u001b[1m6646/6646\u001b[0m \u001b[32m━━━━━━━━━━━━━━━━━━━━\u001b[0m\u001b[37m\u001b[0m \u001b[1m15s\u001b[0m 2ms/step - accuracy: 0.9928 - loss: 0.0284 - precision_3: 0.9909 - recall_3: 0.9946 - val_accuracy: 0.9936 - val_loss: 0.0269 - val_precision_3: 0.9900 - val_recall_3: 0.9974\n",
            "Epoch 16/50\n",
            "\u001b[1m6646/6646\u001b[0m \u001b[32m━━━━━━━━━━━━━━━━━━━━\u001b[0m\u001b[37m\u001b[0m \u001b[1m20s\u001b[0m 2ms/step - accuracy: 0.9931 - loss: 0.0271 - precision_3: 0.9908 - recall_3: 0.9953 - val_accuracy: 0.9923 - val_loss: 0.0277 - val_precision_3: 0.9880 - val_recall_3: 0.9967\n",
            "Epoch 17/50\n",
            "\u001b[1m6646/6646\u001b[0m \u001b[32m━━━━━━━━━━━━━━━━━━━━\u001b[0m\u001b[37m\u001b[0m \u001b[1m15s\u001b[0m 2ms/step - accuracy: 0.9935 - loss: 0.0261 - precision_3: 0.9912 - recall_3: 0.9958 - val_accuracy: 0.9929 - val_loss: 0.0269 - val_precision_3: 0.9904 - val_recall_3: 0.9954\n",
            "Epoch 18/50\n",
            "\u001b[1m6646/6646\u001b[0m \u001b[32m━━━━━━━━━━━━━━━━━━━━\u001b[0m\u001b[37m\u001b[0m \u001b[1m23s\u001b[0m 3ms/step - accuracy: 0.9941 - loss: 0.0241 - precision_3: 0.9918 - recall_3: 0.9964 - val_accuracy: 0.9946 - val_loss: 0.0251 - val_precision_3: 0.9914 - val_recall_3: 0.9978\n",
            "Epoch 19/50\n",
            "\u001b[1m6646/6646\u001b[0m \u001b[32m━━━━━━━━━━━━━━━━━━━━\u001b[0m\u001b[37m\u001b[0m \u001b[1m15s\u001b[0m 2ms/step - accuracy: 0.9947 - loss: 0.0228 - precision_3: 0.9926 - recall_3: 0.9968 - val_accuracy: 0.9941 - val_loss: 0.0241 - val_precision_3: 0.9894 - val_recall_3: 0.9989\n",
            "Epoch 20/50\n",
            "\u001b[1m6646/6646\u001b[0m \u001b[32m━━━━━━━━━━━━━━━━━━━━\u001b[0m\u001b[37m\u001b[0m \u001b[1m23s\u001b[0m 3ms/step - accuracy: 0.9944 - loss: 0.0228 - precision_3: 0.9924 - recall_3: 0.9964 - val_accuracy: 0.9947 - val_loss: 0.0228 - val_precision_3: 0.9923 - val_recall_3: 0.9972\n",
            "Epoch 21/50\n",
            "\u001b[1m6646/6646\u001b[0m \u001b[32m━━━━━━━━━━━━━━━━━━━━\u001b[0m\u001b[37m\u001b[0m \u001b[1m29s\u001b[0m 4ms/step - accuracy: 0.9949 - loss: 0.0224 - precision_3: 0.9928 - recall_3: 0.9970 - val_accuracy: 0.9949 - val_loss: 0.0268 - val_precision_3: 0.9942 - val_recall_3: 0.9957\n",
            "Epoch 22/50\n",
            "\u001b[1m6646/6646\u001b[0m \u001b[32m━━━━━━━━━━━━━━━━━━━━\u001b[0m\u001b[37m\u001b[0m \u001b[1m15s\u001b[0m 2ms/step - accuracy: 0.9950 - loss: 0.0217 - precision_3: 0.9927 - recall_3: 0.9973 - val_accuracy: 0.9935 - val_loss: 0.0299 - val_precision_3: 0.9877 - val_recall_3: 0.9996\n",
            "Epoch 23/50\n",
            "\u001b[1m6646/6646\u001b[0m \u001b[32m━━━━━━━━━━━━━━━━━━━━\u001b[0m\u001b[37m\u001b[0m \u001b[1m20s\u001b[0m 2ms/step - accuracy: 0.9948 - loss: 0.0216 - precision_3: 0.9924 - recall_3: 0.9972 - val_accuracy: 0.9954 - val_loss: 0.0210 - val_precision_3: 0.9930 - val_recall_3: 0.9979\n",
            "Epoch 24/50\n",
            "\u001b[1m6646/6646\u001b[0m \u001b[32m━━━━━━━━━━━━━━━━━━━━\u001b[0m\u001b[37m\u001b[0m \u001b[1m20s\u001b[0m 2ms/step - accuracy: 0.9953 - loss: 0.0204 - precision_3: 0.9930 - recall_3: 0.9976 - val_accuracy: 0.9953 - val_loss: 0.0196 - val_precision_3: 0.9918 - val_recall_3: 0.9988\n",
            "Epoch 25/50\n",
            "\u001b[1m6646/6646\u001b[0m \u001b[32m━━━━━━━━━━━━━━━━━━━━\u001b[0m\u001b[37m\u001b[0m \u001b[1m21s\u001b[0m 2ms/step - accuracy: 0.9957 - loss: 0.0189 - precision_3: 0.9935 - recall_3: 0.9979 - val_accuracy: 0.9940 - val_loss: 0.0236 - val_precision_3: 0.9939 - val_recall_3: 0.9942\n",
            "Epoch 26/50\n",
            "\u001b[1m6646/6646\u001b[0m \u001b[32m━━━━━━━━━━━━━━━━━━━━\u001b[0m\u001b[37m\u001b[0m \u001b[1m15s\u001b[0m 2ms/step - accuracy: 0.9958 - loss: 0.0185 - precision_3: 0.9935 - recall_3: 0.9981 - val_accuracy: 0.9962 - val_loss: 0.0189 - val_precision_3: 0.9936 - val_recall_3: 0.9989\n",
            "Epoch 27/50\n",
            "\u001b[1m6646/6646\u001b[0m \u001b[32m━━━━━━━━━━━━━━━━━━━━\u001b[0m\u001b[37m\u001b[0m \u001b[1m19s\u001b[0m 3ms/step - accuracy: 0.9953 - loss: 0.0199 - precision_3: 0.9930 - recall_3: 0.9976 - val_accuracy: 0.9955 - val_loss: 0.0199 - val_precision_3: 0.9914 - val_recall_3: 0.9997\n",
            "Epoch 28/50\n",
            "\u001b[1m6646/6646\u001b[0m \u001b[32m━━━━━━━━━━━━━━━━━━━━\u001b[0m\u001b[37m\u001b[0m \u001b[1m15s\u001b[0m 2ms/step - accuracy: 0.9957 - loss: 0.0191 - precision_3: 0.9935 - recall_3: 0.9979 - val_accuracy: 0.9952 - val_loss: 0.0187 - val_precision_3: 0.9910 - val_recall_3: 0.9995\n",
            "Epoch 29/50\n",
            "\u001b[1m6646/6646\u001b[0m \u001b[32m━━━━━━━━━━━━━━━━━━━━\u001b[0m\u001b[37m\u001b[0m \u001b[1m15s\u001b[0m 2ms/step - accuracy: 0.9960 - loss: 0.0177 - precision_3: 0.9936 - recall_3: 0.9984 - val_accuracy: 0.9947 - val_loss: 0.0218 - val_precision_3: 0.9936 - val_recall_3: 0.9959\n",
            "Epoch 30/50\n",
            "\u001b[1m6646/6646\u001b[0m \u001b[32m━━━━━━━━━━━━━━━━━━━━\u001b[0m\u001b[37m\u001b[0m \u001b[1m15s\u001b[0m 2ms/step - accuracy: 0.9961 - loss: 0.0170 - precision_3: 0.9940 - recall_3: 0.9983 - val_accuracy: 0.9961 - val_loss: 0.0176 - val_precision_3: 0.9924 - val_recall_3: 0.9998\n",
            "Epoch 31/50\n",
            "\u001b[1m6646/6646\u001b[0m \u001b[32m━━━━━━━━━━━━━━━━━━━━\u001b[0m\u001b[37m\u001b[0m \u001b[1m20s\u001b[0m 2ms/step - accuracy: 0.9962 - loss: 0.0164 - precision_3: 0.9940 - recall_3: 0.9985 - val_accuracy: 0.9951 - val_loss: 0.0191 - val_precision_3: 0.9931 - val_recall_3: 0.9971\n",
            "Epoch 32/50\n",
            "\u001b[1m6646/6646\u001b[0m \u001b[32m━━━━━━━━━━━━━━━━━━━━\u001b[0m\u001b[37m\u001b[0m \u001b[1m15s\u001b[0m 2ms/step - accuracy: 0.9962 - loss: 0.0165 - precision_3: 0.9940 - recall_3: 0.9984 - val_accuracy: 0.9965 - val_loss: 0.0176 - val_precision_3: 0.9940 - val_recall_3: 0.9991\n",
            "Epoch 33/50\n",
            "\u001b[1m6646/6646\u001b[0m \u001b[32m━━━━━━━━━━━━━━━━━━━━\u001b[0m\u001b[37m\u001b[0m \u001b[1m15s\u001b[0m 2ms/step - accuracy: 0.9962 - loss: 0.0185 - precision_3: 0.9940 - recall_3: 0.9984 - val_accuracy: 0.9954 - val_loss: 0.0183 - val_precision_3: 0.9911 - val_recall_3: 0.9998\n",
            "Epoch 34/50\n",
            "\u001b[1m6646/6646\u001b[0m \u001b[32m━━━━━━━━━━━━━━━━━━━━\u001b[0m\u001b[37m\u001b[0m \u001b[1m15s\u001b[0m 2ms/step - accuracy: 0.9964 - loss: 0.0157 - precision_3: 0.9942 - recall_3: 0.9986 - val_accuracy: 0.9962 - val_loss: 0.0173 - val_precision_3: 0.9929 - val_recall_3: 0.9995\n",
            "Epoch 35/50\n",
            "\u001b[1m6646/6646\u001b[0m \u001b[32m━━━━━━━━━━━━━━━━━━━━\u001b[0m\u001b[37m\u001b[0m \u001b[1m20s\u001b[0m 2ms/step - accuracy: 0.9963 - loss: 0.0157 - precision_3: 0.9941 - recall_3: 0.9986 - val_accuracy: 0.9957 - val_loss: 0.0206 - val_precision_3: 0.9921 - val_recall_3: 0.9992\n",
            "Epoch 36/50\n",
            "\u001b[1m6646/6646\u001b[0m \u001b[32m━━━━━━━━━━━━━━━━━━━━\u001b[0m\u001b[37m\u001b[0m \u001b[1m21s\u001b[0m 2ms/step - accuracy: 0.9967 - loss: 0.0151 - precision_3: 0.9945 - recall_3: 0.9989 - val_accuracy: 0.9964 - val_loss: 0.0169 - val_precision_3: 0.9945 - val_recall_3: 0.9983\n",
            "Epoch 37/50\n",
            "\u001b[1m6646/6646\u001b[0m \u001b[32m━━━━━━━━━━━━━━━━━━━━\u001b[0m\u001b[37m\u001b[0m \u001b[1m15s\u001b[0m 2ms/step - accuracy: 0.9966 - loss: 0.0151 - precision_3: 0.9945 - recall_3: 0.9987 - val_accuracy: 0.9956 - val_loss: 0.0189 - val_precision_3: 0.9914 - val_recall_3: 1.0000\n",
            "Epoch 38/50\n",
            "\u001b[1m6646/6646\u001b[0m \u001b[32m━━━━━━━━━━━━━━━━━━━━\u001b[0m\u001b[37m\u001b[0m \u001b[1m21s\u001b[0m 2ms/step - accuracy: 0.9966 - loss: 0.0152 - precision_3: 0.9945 - recall_3: 0.9988 - val_accuracy: 0.9963 - val_loss: 0.0164 - val_precision_3: 0.9932 - val_recall_3: 0.9995\n",
            "Epoch 39/50\n",
            "\u001b[1m6646/6646\u001b[0m \u001b[32m━━━━━━━━━━━━━━━━━━━━\u001b[0m\u001b[37m\u001b[0m \u001b[1m21s\u001b[0m 2ms/step - accuracy: 0.9968 - loss: 0.0147 - precision_3: 0.9945 - recall_3: 0.9990 - val_accuracy: 0.9962 - val_loss: 0.0168 - val_precision_3: 0.9925 - val_recall_3: 1.0000\n",
            "Epoch 40/50\n",
            "\u001b[1m6646/6646\u001b[0m \u001b[32m━━━━━━━━━━━━━━━━━━━━\u001b[0m\u001b[37m\u001b[0m \u001b[1m21s\u001b[0m 2ms/step - accuracy: 0.9969 - loss: 0.0143 - precision_3: 0.9948 - recall_3: 0.9989 - val_accuracy: 0.9948 - val_loss: 0.0227 - val_precision_3: 0.9948 - val_recall_3: 0.9948\n",
            "Epoch 41/50\n",
            "\u001b[1m6646/6646\u001b[0m \u001b[32m━━━━━━━━━━━━━━━━━━━━\u001b[0m\u001b[37m\u001b[0m \u001b[1m26s\u001b[0m 3ms/step - accuracy: 0.9971 - loss: 0.0142 - precision_3: 0.9953 - recall_3: 0.9988 - val_accuracy: 0.9966 - val_loss: 0.0160 - val_precision_3: 0.9936 - val_recall_3: 0.9996\n",
            "Epoch 42/50\n",
            "\u001b[1m6646/6646\u001b[0m \u001b[32m━━━━━━━━━━━━━━━━━━━━\u001b[0m\u001b[37m\u001b[0m \u001b[1m37s\u001b[0m 3ms/step - accuracy: 0.9968 - loss: 0.0150 - precision_3: 0.9948 - recall_3: 0.9989 - val_accuracy: 0.9966 - val_loss: 0.0160 - val_precision_3: 0.9947 - val_recall_3: 0.9985\n",
            "Epoch 43/50\n",
            "\u001b[1m6646/6646\u001b[0m \u001b[32m━━━━━━━━━━━━━━━━━━━━\u001b[0m\u001b[37m\u001b[0m \u001b[1m15s\u001b[0m 2ms/step - accuracy: 0.9967 - loss: 0.0142 - precision_3: 0.9947 - recall_3: 0.9987 - val_accuracy: 0.9969 - val_loss: 0.0190 - val_precision_3: 0.9955 - val_recall_3: 0.9983\n",
            "Epoch 44/50\n",
            "\u001b[1m6646/6646\u001b[0m \u001b[32m━━━━━━━━━━━━━━━━━━━━\u001b[0m\u001b[37m\u001b[0m \u001b[1m23s\u001b[0m 3ms/step - accuracy: 0.9971 - loss: 0.0137 - precision_3: 0.9953 - recall_3: 0.9990 - val_accuracy: 0.9967 - val_loss: 0.0148 - val_precision_3: 0.9936 - val_recall_3: 0.9998\n",
            "Epoch 45/50\n",
            "\u001b[1m6646/6646\u001b[0m \u001b[32m━━━━━━━━━━━━━━━━━━━━\u001b[0m\u001b[37m\u001b[0m \u001b[1m18s\u001b[0m 3ms/step - accuracy: 0.9968 - loss: 0.0137 - precision_3: 0.9948 - recall_3: 0.9988 - val_accuracy: 0.9964 - val_loss: 0.0160 - val_precision_3: 0.9930 - val_recall_3: 0.9998\n",
            "Epoch 46/50\n",
            "\u001b[1m6646/6646\u001b[0m \u001b[32m━━━━━━━━━━━━━━━━━━━━\u001b[0m\u001b[37m\u001b[0m \u001b[1m20s\u001b[0m 3ms/step - accuracy: 0.9971 - loss: 0.0138 - precision_3: 0.9951 - recall_3: 0.9990 - val_accuracy: 0.9961 - val_loss: 0.0158 - val_precision_3: 0.9924 - val_recall_3: 0.9998\n",
            "Epoch 47/50\n",
            "\u001b[1m6646/6646\u001b[0m \u001b[32m━━━━━━━━━━━━━━━━━━━━\u001b[0m\u001b[37m\u001b[0m \u001b[1m18s\u001b[0m 2ms/step - accuracy: 0.9969 - loss: 0.0132 - precision_3: 0.9948 - recall_3: 0.9990 - val_accuracy: 0.9957 - val_loss: 0.0212 - val_precision_3: 0.9919 - val_recall_3: 0.9997\n",
            "Epoch 48/50\n",
            "\u001b[1m6646/6646\u001b[0m \u001b[32m━━━━━━━━━━━━━━━━━━━━\u001b[0m\u001b[37m\u001b[0m \u001b[1m20s\u001b[0m 2ms/step - accuracy: 0.9970 - loss: 0.0150 - precision_3: 0.9949 - recall_3: 0.9991 - val_accuracy: 0.9969 - val_loss: 0.0146 - val_precision_3: 0.9946 - val_recall_3: 0.9992\n",
            "Epoch 49/50\n",
            "\u001b[1m6646/6646\u001b[0m \u001b[32m━━━━━━━━━━━━━━━━━━━━\u001b[0m\u001b[37m\u001b[0m \u001b[1m15s\u001b[0m 2ms/step - accuracy: 0.9972 - loss: 0.0127 - precision_3: 0.9953 - recall_3: 0.9990 - val_accuracy: 0.9967 - val_loss: 0.0160 - val_precision_3: 0.9944 - val_recall_3: 0.9992\n",
            "Epoch 50/50\n",
            "\u001b[1m6646/6646\u001b[0m \u001b[32m━━━━━━━━━━━━━━━━━━━━\u001b[0m\u001b[37m\u001b[0m \u001b[1m23s\u001b[0m 3ms/step - accuracy: 0.9971 - loss: 0.0129 - precision_3: 0.9950 - recall_3: 0.9991 - val_accuracy: 0.9963 - val_loss: 0.0166 - val_precision_3: 0.9926 - val_recall_3: 1.0000\n"
          ]
        }
      ],
      "source": [
        "history = model.fit(\n",
        "    X_train, y_train,\n",
        "    validation_split=0.2,\n",
        "    epochs=50,      # Colab-friendly\n",
        "    batch_size=32\n",
        ")"
      ]
    },
    {
      "cell_type": "code",
      "execution_count": 47,
      "metadata": {
        "colab": {
          "base_uri": "https://localhost:8080/"
        },
        "id": "wiOOZ3YiuAWS",
        "outputId": "ccf7de6b-3964-45b0-c2b1-10b1aba21689"
      },
      "outputs": [
        {
          "output_type": "stream",
          "name": "stdout",
          "text": [
            "\u001b[1m2077/2077\u001b[0m \u001b[32m━━━━━━━━━━━━━━━━━━━━\u001b[0m\u001b[37m\u001b[0m \u001b[1m2s\u001b[0m 954us/step\n",
            "\n",
            "✅ Test Loss: 0.0158\n",
            "✅ Test Accuracy: 99.65%\n",
            "✅ Test Precision: 99.30%\n",
            "✅ Test Recall: 100.00%\n",
            "✅ Test F1 Score: 99.65%\n",
            "\n",
            "Confusion Matrix:\n",
            "[[32997   234]\n",
            " [    0 33230]]\n"
          ]
        }
      ],
      "source": [
        "y_pred_probs = model.predict(X_test)\n",
        "y_pred_classes = (y_pred_probs > 0.5).astype(int).flatten()\n",
        "\n",
        "test_loss, test_accuracy, test_precision, test_recall = model.evaluate(X_test, y_test, verbose=0)\n",
        "f1 = f1_score(y_test, y_pred_classes)\n",
        "precision = precision_score(y_test, y_pred_classes)\n",
        "recall = recall_score(y_test, y_pred_classes)\n",
        "conf_matrix = confusion_matrix(y_test, y_pred_classes)\n",
        "\n",
        "print(f\"\\n✅ Test Loss: {test_loss:.4f}\")\n",
        "print(f\"✅ Test Accuracy: {test_accuracy * 100:.2f}%\")\n",
        "print(f\"✅ Test Precision: {precision * 100:.2f}%\")\n",
        "print(f\"✅ Test Recall: {recall * 100:.2f}%\")\n",
        "print(f\"✅ Test F1 Score: {f1 * 100:.2f}%\")\n",
        "print(f\"\\nConfusion Matrix:\\n{conf_matrix}\")"
      ]
    },
    {
      "cell_type": "code",
      "execution_count": 48,
      "metadata": {
        "colab": {
          "base_uri": "https://localhost:8080/",
          "height": 487
        },
        "id": "XrFAFQK7xdxV",
        "outputId": "d55afbfd-5aef-4356-b140-ba135e73550c"
      },
      "outputs": [
        {
          "output_type": "display_data",
          "data": {
            "text/plain": [
              "<Figure size 1200x500 with 2 Axes>"
            ],
            "image/png": "[encoded data removed]"
          },
          "metadata": {}
        }
      ],
      "source": [
        "plt.figure(figsize=(12,5))\n",
        "plt.subplot(1,2,1)\n",
        "plt.plot(history.history['accuracy'], label='Train Acc')\n",
        "plt.plot(history.history['val_accuracy'], label='Val Acc')\n",
        "plt.title(\"Accuracy\")\n",
        "plt.xlabel(\"Epochs\")\n",
        "plt.ylabel(\"Accuracy\")\n",
        "plt.legend()\n",
        "\n",
        "plt.subplot(1,2,2)\n",
        "plt.plot(history.history['loss'], label='Train Loss')\n",
        "plt.plot(history.history['val_loss'], label='Val Loss')\n",
        "plt.title(\"Loss\")\n",
        "plt.xlabel(\"Epochs\")\n",
        "plt.ylabel(\"Loss\")\n",
        "plt.legend()\n",
        "\n",
        "plt.show()"
      ]
    },
    {
      "cell_type": "code",
      "source": [],
      "metadata": {
        "id": "bn1MSKTme1g6"
      },
      "execution_count": 48,
      "outputs": []
    }
  ],
  "metadata": {
    "accelerator": "GPU",
    "colab": {
      "gpuType": "T4",
      "provenance": []
    },
    "kernelspec": {
      "display_name": "Python 3",
      "name": "python3"
    },
    "language_info": {
      "name": "python"
    }
  },
  "nbformat": 4,
  "nbformat_minor": 0
}